{
 "cells": [
  {
   "cell_type": "code",
   "execution_count": 173,
   "metadata": {},
   "outputs": [],
   "source": [
    "import pandas as pd\n",
    "import numpy as np\n",
    "import matplotlib.pyplot as plt\n",
    "%matplotlib qt\n",
    "\n",
    "# In[10]:\n",
    "\n",
    "\n",
    "def World_Bank_Modification(data):\n",
    "    indicator = data['Indicator Name'].unique()[0]\n",
    "    data = data.drop(columns=['Indicator Name', 'Country Code', 'Indicator Code'])\n",
    "    data = data.set_index('Country Name').stack().reset_index().rename(columns={'Country Name':'country', 'level_1':'year',0:indicator})\n",
    "    data.year = pd.to_numeric(data.year, errors='coerce')\n",
    "    data.year = pd.to_datetime(data['year'],format='%Y')\n",
    "    #国名修正\n",
    "    data.country = data.country.replace('Hong Kong SAR, China', 'Hong Kong')\n",
    "    data.country = data.country.replace('Korea, Rep.', 'South Korea')\n",
    "    return data[data.country.isin(country)].set_index(['country','year'])\n",
    "\n",
    "\n",
    "\n",
    "# In[11]:\n",
    "\n",
    "\n",
    "path =['gross_value_added.csv','industry_value_added.csv', 'import.csv','export.csv','gdp_deflator.csv']\n",
    "\n",
    "\n",
    "# In[12]:\n",
    "\n",
    "\n",
    "#######ここから\n",
    "##Gross だけ初めから入れておく\n",
    "iterables = [country, pd.to_datetime(np.arange(1960,1997),format='%Y')]\n",
    "index = pd.MultiIndex.from_product(iterables, names=['country', 'year'])\n",
    "df = pd.DataFrame({'value':np.nan},index=index)\n",
    "\n",
    "\n",
    "##他を読み込んで統合\n",
    "for file in path:\n",
    "    a = pd.read_csv(file,skiprows=4, encoding='cp932')\n",
    "    df = pd.merge(df, World_Bank_Modification(a),left_index=True, right_index=True, how='left')\n",
    "    \n",
    "##最初に入れたNANをDrop\n",
    "df = df.drop(columns='value')\n",
    "\n",
    "#column名変更\n",
    "df.columns = ['GDP', 'IND', 'M', 'X','DEFLATOR'] \n"
   ]
  },
  {
   "cell_type": "code",
   "execution_count": 174,
   "metadata": {},
   "outputs": [],
   "source": [
    "countries = ['Singapore', 'Indonesia', 'India', 'Malaysia', 'Philippines', 'Thailand', 'Taiwan','Japan']\n",
    "# countries = ['Singapore','India','Philippines']"
   ]
  },
  {
   "cell_type": "code",
   "execution_count": 175,
   "metadata": {},
   "outputs": [],
   "source": [
    "df = df.reset_index()"
   ]
  },
  {
   "cell_type": "code",
   "execution_count": 176,
   "metadata": {},
   "outputs": [],
   "source": [
    "# df"
   ]
  },
  {
   "cell_type": "code",
   "execution_count": 177,
   "metadata": {},
   "outputs": [],
   "source": [
    "df = df[df.country.isin(countries)]"
   ]
  },
  {
   "cell_type": "code",
   "execution_count": 161,
   "metadata": {},
   "outputs": [],
   "source": [
    "# df.unstack(level=0).head().loc[:]['DEFLATOR']"
   ]
  },
  {
   "cell_type": "code",
   "execution_count": 162,
   "metadata": {},
   "outputs": [],
   "source": [
    "##デフレータを１９８７年に統一する方法はよくわからんからあとでやる。"
   ]
  },
  {
   "cell_type": "code",
   "execution_count": 163,
   "metadata": {},
   "outputs": [],
   "source": [
    "# ##deflator_calculation\n",
    "# d_c = pd.DataFrame({'DEFLATOR':df.DEFLATOR},index=df.index).unstack(level=0)\n",
    "# d_c = d_c.reset_index()\n",
    "# # d_c.loc[:]['DEFLATOR'] = d_c.loc[:]['DEFLATOR'] / d_c.loc[d_c.year=='1987-01-01'][:]\n",
    "# d_c.loc[:]['DEFLATOR'] / d_c.loc[d_c.year=='1987-01-01'][:].DEFLATOR\n",
    "\n",
    "# plt.plot(d_c.year,d_c.DEFLATOR)"
   ]
  },
  {
   "cell_type": "code",
   "execution_count": null,
   "metadata": {},
   "outputs": [],
   "source": []
  },
  {
   "cell_type": "code",
   "execution_count": 164,
   "metadata": {},
   "outputs": [],
   "source": [
    "##データ整形\n",
    "#1987年で調整\n",
    "def constantPrice(df):\n",
    "    df.loc[:]['M'] = df.loc[:]['M'] / df.loc[df.year=='1987-01-01']['M']\n",
    "    df.loc[:]['X'] = df.loc[:]['X'] / df.loc[df.year=='1987-01-01']['X']\n",
    "    df.loc[:]['DEFLATOR'] = df.loc[:]['DEFLATOR'] / df.loc[df.year=='1987-01-01']['DEFLATOR']\n",
    "    df.loc[:]['LP'] = df.loc[:]['LP'] / df.loc[:]['DEFLATOR']\n",
    "    \n",
    "    return df"
   ]
  },
  {
   "cell_type": "code",
   "execution_count": 179,
   "metadata": {},
   "outputs": [],
   "source": [
    "df[df.country=='Japan'].to_csv('Japan_data.csv',index=None)"
   ]
  },
  {
   "cell_type": "code",
   "execution_count": 181,
   "metadata": {},
   "outputs": [],
   "source": [
    "# df"
   ]
  },
  {
   "cell_type": "code",
   "execution_count": 182,
   "metadata": {},
   "outputs": [],
   "source": [
    "\n",
    "# #Log Form\n",
    "# #Labor Productivityはインフレ率を考慮\n",
    "# df.loc[:]['LP'] = np.log(df.loc[:]['LP']/df.loc[:]['DEFLATOR'])\n",
    "# df.loc[:]['M'] = np.log(df.loc[:]['M'])\n",
    "# df.loc[:]['X'] = np.log(df.loc[:]['X'])\n",
    "\n",
    "# df = df.drop(['DEFLATOR'],axis=1)"
   ]
  },
  {
   "cell_type": "code",
   "execution_count": 184,
   "metadata": {},
   "outputs": [],
   "source": [
    "# df"
   ]
  },
  {
   "cell_type": "code",
   "execution_count": null,
   "metadata": {},
   "outputs": [],
   "source": []
  }
 ],
 "metadata": {
  "kernelspec": {
   "display_name": "Python 3",
   "language": "python",
   "name": "python3"
  },
  "language_info": {
   "codemirror_mode": {
    "name": "ipython",
    "version": 3
   },
   "file_extension": ".py",
   "mimetype": "text/x-python",
   "name": "python",
   "nbconvert_exporter": "python",
   "pygments_lexer": "ipython3",
   "version": "3.6.5"
  }
 },
 "nbformat": 4,
 "nbformat_minor": 2
}
