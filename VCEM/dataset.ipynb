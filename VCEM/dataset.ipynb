{
 "cells": [
  {
   "cell_type": "code",
   "execution_count": 27,
   "metadata": {},
   "outputs": [],
   "source": [
    "import pandas as pd\n",
    "import numpy as np\n",
    "import matplotlib.pyplot as plt\n",
    "%matplotlib qt"
   ]
  },
  {
   "cell_type": "code",
   "execution_count": 2,
   "metadata": {},
   "outputs": [],
   "source": [
    "df = pd.read_csv('export_price_index.csv', encoding='cp932')"
   ]
  },
  {
   "cell_type": "code",
   "execution_count": 3,
   "metadata": {},
   "outputs": [],
   "source": [
    "df = df[df['Time period'].isin(np.arange(1960,2014).astype('str'))].drop(columns=['Series','Time period','Flag Codes','Flags'])"
   ]
  },
  {
   "cell_type": "code",
   "execution_count": 4,
   "metadata": {},
   "outputs": [],
   "source": [
    "# df.SERIES.unique()"
   ]
  },
  {
   "cell_type": "code",
   "execution_count": 5,
   "metadata": {},
   "outputs": [],
   "source": [
    "country_dict ={'JPN-EXP-PRI-TOTAL':'XPI',\n",
    "               'JPN-EXP-VAL-TOTAL':'XVAL',\n",
    "               'JPN-EXP-VOL-TOTAL':'XVOL',\n",
    "               'JPN-IMP-PRI-TOTAL':'MPI',\n",
    "               'JPN-IMP-VAL-TOTAL':'MVAL',\n",
    "               'JPN-IMP-VOL-TOTAL':'MVOL'}\n",
    "index = ['JPN-EXP-PRI-TOTAL', 'JPN-EXP-VAL-TOTAL','JPN-EXP-VOL-TOTAL', 'JPN-IMP-PRI-TOTAL', 'JPN-IMP-VAL-TOTAL','JPN-IMP-VOL-TOTAL']"
   ]
  },
  {
   "cell_type": "code",
   "execution_count": 6,
   "metadata": {},
   "outputs": [],
   "source": [
    "df = df[df.SERIES.isin(index)&df.TIME.isin(np.arange(1960,1997).astype('str'))]\n",
    "df = df.rename(columns={'TIME':'year'})\n",
    "df.year = pd.to_datetime(df.year,format='%Y')"
   ]
  },
  {
   "cell_type": "code",
   "execution_count": 7,
   "metadata": {},
   "outputs": [],
   "source": [
    "df['SERIES'] = df['SERIES'].replace(country_dict)"
   ]
  },
  {
   "cell_type": "code",
   "execution_count": 8,
   "metadata": {},
   "outputs": [],
   "source": [
    "df = df.set_index(['year','SERIES'])"
   ]
  },
  {
   "cell_type": "code",
   "execution_count": 9,
   "metadata": {},
   "outputs": [],
   "source": [
    "df = df.unstack()\n",
    "df.columns = df.columns.droplevel(level=0)"
   ]
  },
  {
   "cell_type": "code",
   "execution_count": 10,
   "metadata": {},
   "outputs": [],
   "source": [
    "###よくわからんからTrade VolumeとValueは削除してほかのリソースを使う\n",
    "df = df.drop(columns=['MVOL','MVAL','XVOL','XVAL'])"
   ]
  },
  {
   "cell_type": "code",
   "execution_count": 11,
   "metadata": {},
   "outputs": [
    {
     "data": {
      "text/html": [
       "<div>\n",
       "<style scoped>\n",
       "    .dataframe tbody tr th:only-of-type {\n",
       "        vertical-align: middle;\n",
       "    }\n",
       "\n",
       "    .dataframe tbody tr th {\n",
       "        vertical-align: top;\n",
       "    }\n",
       "\n",
       "    .dataframe thead th {\n",
       "        text-align: right;\n",
       "    }\n",
       "</style>\n",
       "<table border=\"1\" class=\"dataframe\">\n",
       "  <thead>\n",
       "    <tr style=\"text-align: right;\">\n",
       "      <th>SERIES</th>\n",
       "      <th>MPI</th>\n",
       "      <th>XPI</th>\n",
       "    </tr>\n",
       "    <tr>\n",
       "      <th>year</th>\n",
       "      <th></th>\n",
       "      <th></th>\n",
       "    </tr>\n",
       "  </thead>\n",
       "  <tbody>\n",
       "    <tr>\n",
       "      <th>1960-01-01</th>\n",
       "      <td>60.612896</td>\n",
       "      <td>108.634902</td>\n",
       "    </tr>\n",
       "    <tr>\n",
       "      <th>1961-01-01</th>\n",
       "      <td>60.846707</td>\n",
       "      <td>104.272264</td>\n",
       "    </tr>\n",
       "    <tr>\n",
       "      <th>1962-01-01</th>\n",
       "      <td>59.020749</td>\n",
       "      <td>101.006817</td>\n",
       "    </tr>\n",
       "    <tr>\n",
       "      <th>1963-01-01</th>\n",
       "      <td>60.746502</td>\n",
       "      <td>103.384062</td>\n",
       "    </tr>\n",
       "    <tr>\n",
       "      <th>1964-01-01</th>\n",
       "      <td>61.659481</td>\n",
       "      <td>104.833921</td>\n",
       "    </tr>\n",
       "  </tbody>\n",
       "</table>\n",
       "</div>"
      ],
      "text/plain": [
       "SERIES            MPI         XPI\n",
       "year                             \n",
       "1960-01-01  60.612896  108.634902\n",
       "1961-01-01  60.846707  104.272264\n",
       "1962-01-01  59.020749  101.006817\n",
       "1963-01-01  60.746502  103.384062\n",
       "1964-01-01  61.659481  104.833921"
      ]
     },
     "execution_count": 11,
     "metadata": {},
     "output_type": "execute_result"
    }
   ],
   "source": [
    "df.head()"
   ]
  },
  {
   "cell_type": "code",
   "execution_count": 12,
   "metadata": {},
   "outputs": [],
   "source": [
    "japan = pd.read_csv('Japan_data.csv')\n",
    "japan = japan.drop(columns='country').set_index('year')"
   ]
  },
  {
   "cell_type": "code",
   "execution_count": 13,
   "metadata": {},
   "outputs": [],
   "source": [
    "labor = pd.read_csv('labor_force_japan.csv')\n",
    "labor.columns = ['year','Labor']\n",
    "labor = labor.set_index(['year'])\n",
    "labor = labor*1000"
   ]
  },
  {
   "cell_type": "code",
   "execution_count": 14,
   "metadata": {},
   "outputs": [],
   "source": [
    "df = pd.merge(df, japan, right_index=True, left_index=True).drop(columns=['IND'])\n",
    "df = pd.merge(df, labor, right_index=True, left_index=True,how='left')"
   ]
  },
  {
   "cell_type": "code",
   "execution_count": 15,
   "metadata": {},
   "outputs": [
    {
     "data": {
      "text/html": [
       "<div>\n",
       "<style scoped>\n",
       "    .dataframe tbody tr th:only-of-type {\n",
       "        vertical-align: middle;\n",
       "    }\n",
       "\n",
       "    .dataframe tbody tr th {\n",
       "        vertical-align: top;\n",
       "    }\n",
       "\n",
       "    .dataframe thead th {\n",
       "        text-align: right;\n",
       "    }\n",
       "</style>\n",
       "<table border=\"1\" class=\"dataframe\">\n",
       "  <thead>\n",
       "    <tr style=\"text-align: right;\">\n",
       "      <th></th>\n",
       "      <th>MPI</th>\n",
       "      <th>XPI</th>\n",
       "      <th>GDP</th>\n",
       "      <th>M</th>\n",
       "      <th>X</th>\n",
       "      <th>DEFLATOR</th>\n",
       "      <th>Labor</th>\n",
       "    </tr>\n",
       "    <tr>\n",
       "      <th>year</th>\n",
       "      <th></th>\n",
       "      <th></th>\n",
       "      <th></th>\n",
       "      <th></th>\n",
       "      <th></th>\n",
       "      <th></th>\n",
       "      <th></th>\n",
       "    </tr>\n",
       "  </thead>\n",
       "  <tbody>\n",
       "    <tr>\n",
       "      <th>1960-01-01</th>\n",
       "      <td>60.612896</td>\n",
       "      <td>108.634902</td>\n",
       "      <td>4.430734e+10</td>\n",
       "      <td>4.558322e+09</td>\n",
       "      <td>1.860324e+10</td>\n",
       "      <td>22.822009</td>\n",
       "      <td>45103330.0</td>\n",
       "    </tr>\n",
       "    <tr>\n",
       "      <th>1961-01-01</th>\n",
       "      <td>60.846707</td>\n",
       "      <td>104.272264</td>\n",
       "      <td>5.350862e+10</td>\n",
       "      <td>5.833317e+09</td>\n",
       "      <td>2.157891e+10</td>\n",
       "      <td>24.598866</td>\n",
       "      <td>45623330.0</td>\n",
       "    </tr>\n",
       "    <tr>\n",
       "      <th>1962-01-01</th>\n",
       "      <td>59.020749</td>\n",
       "      <td>101.006817</td>\n",
       "      <td>6.072302e+10</td>\n",
       "      <td>5.641652e+09</td>\n",
       "      <td>2.503056e+10</td>\n",
       "      <td>25.631915</td>\n",
       "      <td>46140000.0</td>\n",
       "    </tr>\n",
       "    <tr>\n",
       "      <th>1963-01-01</th>\n",
       "      <td>60.746502</td>\n",
       "      <td>103.384062</td>\n",
       "      <td>6.949813e+10</td>\n",
       "      <td>6.863869e+09</td>\n",
       "      <td>2.903431e+10</td>\n",
       "      <td>27.044353</td>\n",
       "      <td>46524170.0</td>\n",
       "    </tr>\n",
       "    <tr>\n",
       "      <th>1964-01-01</th>\n",
       "      <td>61.659481</td>\n",
       "      <td>104.833921</td>\n",
       "      <td>8.174901e+10</td>\n",
       "      <td>7.922199e+09</td>\n",
       "      <td>3.367849e+10</td>\n",
       "      <td>28.485468</td>\n",
       "      <td>47095000.0</td>\n",
       "    </tr>\n",
       "  </tbody>\n",
       "</table>\n",
       "</div>"
      ],
      "text/plain": [
       "                  MPI         XPI           GDP             M             X  \\\n",
       "year                                                                          \n",
       "1960-01-01  60.612896  108.634902  4.430734e+10  4.558322e+09  1.860324e+10   \n",
       "1961-01-01  60.846707  104.272264  5.350862e+10  5.833317e+09  2.157891e+10   \n",
       "1962-01-01  59.020749  101.006817  6.072302e+10  5.641652e+09  2.503056e+10   \n",
       "1963-01-01  60.746502  103.384062  6.949813e+10  6.863869e+09  2.903431e+10   \n",
       "1964-01-01  61.659481  104.833921  8.174901e+10  7.922199e+09  3.367849e+10   \n",
       "\n",
       "             DEFLATOR       Labor  \n",
       "year                               \n",
       "1960-01-01  22.822009  45103330.0  \n",
       "1961-01-01  24.598866  45623330.0  \n",
       "1962-01-01  25.631915  46140000.0  \n",
       "1963-01-01  27.044353  46524170.0  \n",
       "1964-01-01  28.485468  47095000.0  "
      ]
     },
     "execution_count": 15,
     "metadata": {},
     "output_type": "execute_result"
    }
   ],
   "source": [
    "df.head()"
   ]
  },
  {
   "cell_type": "code",
   "execution_count": 16,
   "metadata": {},
   "outputs": [],
   "source": [
    "def adjustment(series):\n",
    "    return series / series['1987-01-01'] *100"
   ]
  },
  {
   "cell_type": "code",
   "execution_count": 17,
   "metadata": {},
   "outputs": [],
   "source": [
    "df.XPI = adjustment(df.XPI)\n",
    "df.MPI = adjustment(df.MPI)\n",
    "df.DEFLATOR = adjustment(df.DEFLATOR)"
   ]
  },
  {
   "cell_type": "code",
   "execution_count": 18,
   "metadata": {},
   "outputs": [],
   "source": [
    "##見やすいように並べ替え\n",
    "df = df.reset_index().set_index(['GDP','M','X','Labor','DEFLATOR','MPI']).reset_index().set_index(['year'])"
   ]
  },
  {
   "cell_type": "code",
   "execution_count": 19,
   "metadata": {},
   "outputs": [],
   "source": [
    "df['RLP'] = df['GDP'] / df['DEFLATOR'] / df['Labor']\n",
    "df['RM'] = df['M'] / df['MPI']\n",
    "df['RX'] = df['X'] / df['XPI']\n",
    "df['LOGRLP'] = np.log(df.RLP)\n",
    "df['LOGRM'] = np.log(df.RM)\n",
    "df['LOGRX'] = np.log(df.RX)\n",
    "df['dif_LOGRLP'] =df['LOGRLP'].pct_change()\n",
    "df['dif_LOGRM'] = df['LOGRM'].pct_change()\n",
    "df['dif_LOGRX'] = df['LOGRX'].pct_change()"
   ]
  },
  {
   "cell_type": "code",
   "execution_count": 20,
   "metadata": {},
   "outputs": [],
   "source": [
    "##分析対象のデータのみにする。\n",
    "dataset = pd.DataFrame({'RLP':df.RLP,'RM':df.RM,'RX':df.RX,\n",
    "                        'LOGRLP':df['LOGRLP'],'LOGRM':df['LOGRM'],'LOGRX':df['LOGRX'],\n",
    "                       'dif_LOGRLP':df['dif_LOGRLP'],'dif_LOGRM':df['dif_LOGRM'],'dif_LOGRX':df['dif_LOGRX']},\n",
    "                       index=df.index)"
   ]
  },
  {
   "cell_type": "code",
   "execution_count": 21,
   "metadata": {},
   "outputs": [
    {
     "data": {
      "text/html": [
       "<div>\n",
       "<style scoped>\n",
       "    .dataframe tbody tr th:only-of-type {\n",
       "        vertical-align: middle;\n",
       "    }\n",
       "\n",
       "    .dataframe tbody tr th {\n",
       "        vertical-align: top;\n",
       "    }\n",
       "\n",
       "    .dataframe thead th {\n",
       "        text-align: right;\n",
       "    }\n",
       "</style>\n",
       "<table border=\"1\" class=\"dataframe\">\n",
       "  <thead>\n",
       "    <tr style=\"text-align: right;\">\n",
       "      <th></th>\n",
       "      <th>year</th>\n",
       "      <th>RLP</th>\n",
       "      <th>RM</th>\n",
       "      <th>RX</th>\n",
       "      <th>LOGRLP</th>\n",
       "      <th>LOGRM</th>\n",
       "      <th>LOGRX</th>\n",
       "      <th>dif_LOGRLP</th>\n",
       "      <th>dif_LOGRM</th>\n",
       "      <th>dif_LOGRX</th>\n",
       "    </tr>\n",
       "  </thead>\n",
       "  <tbody>\n",
       "    <tr>\n",
       "      <th>0</th>\n",
       "      <td>1960-01-01</td>\n",
       "      <td>44.856778</td>\n",
       "      <td>8.693713e+07</td>\n",
       "      <td>2.220806e+08</td>\n",
       "      <td>3.803475</td>\n",
       "      <td>18.280696</td>\n",
       "      <td>19.218551</td>\n",
       "      <td>NaN</td>\n",
       "      <td>NaN</td>\n",
       "      <td>NaN</td>\n",
       "    </tr>\n",
       "    <tr>\n",
       "      <th>1</th>\n",
       "      <td>1961-01-01</td>\n",
       "      <td>49.686283</td>\n",
       "      <td>1.108266e+08</td>\n",
       "      <td>2.683813e+08</td>\n",
       "      <td>3.905729</td>\n",
       "      <td>18.523477</td>\n",
       "      <td>19.407919</td>\n",
       "      <td>0.026884</td>\n",
       "      <td>0.013281</td>\n",
       "      <td>0.009853</td>\n",
       "    </tr>\n",
       "    <tr>\n",
       "      <th>2</th>\n",
       "      <td>1962-01-01</td>\n",
       "      <td>53.506872</td>\n",
       "      <td>1.105012e+08</td>\n",
       "      <td>3.213745e+08</td>\n",
       "      <td>3.979810</td>\n",
       "      <td>18.520537</td>\n",
       "      <td>19.588118</td>\n",
       "      <td>0.018967</td>\n",
       "      <td>-0.000159</td>\n",
       "      <td>0.009285</td>\n",
       "    </tr>\n",
       "    <tr>\n",
       "      <th>3</th>\n",
       "      <td>1963-01-01</td>\n",
       "      <td>57.561585</td>\n",
       "      <td>1.306210e+08</td>\n",
       "      <td>3.642080e+08</td>\n",
       "      <td>4.052855</td>\n",
       "      <td>18.687811</td>\n",
       "      <td>19.713236</td>\n",
       "      <td>0.018354</td>\n",
       "      <td>0.009032</td>\n",
       "      <td>0.006387</td>\n",
       "    </tr>\n",
       "    <tr>\n",
       "      <th>4</th>\n",
       "      <td>1964-01-01</td>\n",
       "      <td>63.503722</td>\n",
       "      <td>1.485290e+08</td>\n",
       "      <td>4.166221e+08</td>\n",
       "      <td>4.151099</td>\n",
       "      <td>18.816291</td>\n",
       "      <td>19.847690</td>\n",
       "      <td>0.024240</td>\n",
       "      <td>0.006875</td>\n",
       "      <td>0.006821</td>\n",
       "    </tr>\n",
       "  </tbody>\n",
       "</table>\n",
       "</div>"
      ],
      "text/plain": [
       "        year        RLP            RM            RX    LOGRLP      LOGRM  \\\n",
       "0 1960-01-01  44.856778  8.693713e+07  2.220806e+08  3.803475  18.280696   \n",
       "1 1961-01-01  49.686283  1.108266e+08  2.683813e+08  3.905729  18.523477   \n",
       "2 1962-01-01  53.506872  1.105012e+08  3.213745e+08  3.979810  18.520537   \n",
       "3 1963-01-01  57.561585  1.306210e+08  3.642080e+08  4.052855  18.687811   \n",
       "4 1964-01-01  63.503722  1.485290e+08  4.166221e+08  4.151099  18.816291   \n",
       "\n",
       "       LOGRX  dif_LOGRLP  dif_LOGRM  dif_LOGRX  \n",
       "0  19.218551         NaN        NaN        NaN  \n",
       "1  19.407919    0.026884   0.013281   0.009853  \n",
       "2  19.588118    0.018967  -0.000159   0.009285  \n",
       "3  19.713236    0.018354   0.009032   0.006387  \n",
       "4  19.847690    0.024240   0.006875   0.006821  "
      ]
     },
     "execution_count": 21,
     "metadata": {},
     "output_type": "execute_result"
    }
   ],
   "source": [
    "##Logとってないバージョン\n",
    "dataset.reset_index(inplace=True)\n",
    "dataset.head()"
   ]
  },
  {
   "cell_type": "code",
   "execution_count": 28,
   "metadata": {},
   "outputs": [],
   "source": [
    "# multiple line plot\n",
    "year = dataset.year\n",
    "plt.plot(year, dataset.RLP, color='black', label='Labor Productivity')\n",
    "plt.plot(year, dataset.RM, color='orange', label='Import')\n",
    "plt.plot(year, dataset.RX, color='skyblue', label='Export')\n",
    "plt.legend()\n",
    "plt.show()"
   ]
  },
  {
   "cell_type": "code",
   "execution_count": 31,
   "metadata": {},
   "outputs": [],
   "source": [
    "# multiple line plot\n",
    "year = dataset.year\n",
    "plt.plot(year, dataset.LOGRLP, color='black', label='Log Labor Productivity')\n",
    "plt.plot(year, dataset.LOGRM, color='orange', label='Log Import')\n",
    "plt.plot(year, dataset.LOGRX, color='skyblue', label='Log Export')\n",
    "plt.legend()\n",
    "plt.show()"
   ]
  },
  {
   "cell_type": "code",
   "execution_count": 32,
   "metadata": {},
   "outputs": [],
   "source": [
    "# multiple line plot\n",
    "year = dataset.year\n",
    "plt.plot(year, dataset.dif_LOGRLP, color='black', label='dif Log Labor Productivity')\n",
    "plt.plot(year, dataset.dif_LOGRM, color='orange', label='dif Log Import')\n",
    "plt.plot(year, dataset.dif_LOGRX, color='skyblue', label='dif Log Export')\n",
    "plt.legend()\n",
    "plt.show()"
   ]
  },
  {
   "cell_type": "code",
   "execution_count": 26,
   "metadata": {},
   "outputs": [],
   "source": [
    "dataset.dropna(axis=0,inplace=True)\n",
    "dataset.to_csv('Dataset.csv',index=None)"
   ]
  },
  {
   "cell_type": "code",
   "execution_count": null,
   "metadata": {},
   "outputs": [],
   "source": [
    "model = sm.OLS(np.arange(),nstant(series.index)).fit()\n",
    "result = pd.DataFrame({'coef':model.params,'p-value':model.pvalues,'country':country,'value':value})\n",
    "result.index = ['constant','trend']\n",
    "result = result.reset_index()"
   ]
  },
  {
   "cell_type": "code",
   "execution_count": null,
   "metadata": {},
   "outputs": [],
   "source": []
  }
 ],
 "metadata": {
  "kernelspec": {
   "display_name": "Python 3",
   "language": "python",
   "name": "python3"
  },
  "language_info": {
   "codemirror_mode": {
    "name": "ipython",
    "version": 3
   },
   "file_extension": ".py",
   "mimetype": "text/x-python",
   "name": "python",
   "nbconvert_exporter": "python",
   "pygments_lexer": "ipython3",
   "version": "3.6.5"
  }
 },
 "nbformat": 4,
 "nbformat_minor": 2
}
